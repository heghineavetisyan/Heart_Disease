{
 "cells": [
  {
   "cell_type": "markdown",
   "id": "70e6c3d3-6af8-4244-bd24-66e03a6959d5",
   "metadata": {},
   "source": [
    "# Heart Disease Data"
   ]
  },
  {
   "cell_type": "code",
   "execution_count": 2,
   "id": "cef59a9d-cbe7-43c2-a471-05f77de8aafe",
   "metadata": {
    "tags": []
   },
   "outputs": [],
   "source": [
    "import pandas as pd\n",
    "from sklearn.impute import SimpleImputer\n"
   ]
  },
  {
   "cell_type": "markdown",
   "id": "e6bccbef-b264-4409-a0ec-b862af74d1e2",
   "metadata": {},
   "source": [
    "Column Descriptions:\n",
    "    \n",
    "- id (Unique id for each patient)\n",
    "\n",
    "- age (Age of the patient in years)\n",
    "\n",
    "- origin (place of study)\n",
    "\n",
    "- sex (Male/Female)\n",
    "\n",
    "- cp chest pain type ([typical angina, atypical angina, non-anginal, asymptomatic])\n",
    "\n",
    "- trestbps resting blood pressure (resting blood pressure (in mm Hg on admission to the hospital))\n",
    "\n",
    "- chol (serum cholesterol in mg/dl)\n",
    "\n",
    "- fbs (if fasting blood sugar > 120 mg/dl)\n",
    "\n",
    "- restecg (resting electrocardiographic results) [normal, stt abnormality, lv hypertrophy]\n",
    "\n",
    "- thalach: maximum heart rate achieved\n",
    "\n",
    "- exang: exercise-induced angina (True/ False)\n",
    "\n",
    "- oldpeak: ST depression induced by exercise relative to rest\n",
    "\n",
    "- slope: the slope of the peak exercise ST segment\n",
    "\n",
    "- ca: number of major vessels (0-3) colored by fluoroscopy\n",
    "\n",
    "- thal: [normal; fixed defect; reversible defect]\n",
    "\n",
    "- num: the predicted attribute :target [0=no heart disease; 1,2,3,4 = stages of heart disease ]"
   ]
  },
  {
   "cell_type": "markdown",
   "id": "e07bdae0-cca4-425a-8d6c-3439a5504014",
   "metadata": {},
   "source": [
    "Dataset is  from 4  hospitals:\n",
    "\n",
    "- V.A. Long Beach \n",
    "\n",
    "- Cleveland Clinic Foundation\n",
    "\n",
    "- Hungary\n",
    "\n",
    "- Switzerland\n"
   ]
  },
  {
   "cell_type": "code",
   "execution_count": 4,
   "id": "34e8c875-66d2-40b0-858e-65900736338a",
   "metadata": {
    "tags": []
   },
   "outputs": [
    {
     "data": {
      "text/html": [
       "<div>\n",
       "<style scoped>\n",
       "    .dataframe tbody tr th:only-of-type {\n",
       "        vertical-align: middle;\n",
       "    }\n",
       "\n",
       "    .dataframe tbody tr th {\n",
       "        vertical-align: top;\n",
       "    }\n",
       "\n",
       "    .dataframe thead th {\n",
       "        text-align: right;\n",
       "    }\n",
       "</style>\n",
       "<table border=\"1\" class=\"dataframe\">\n",
       "  <thead>\n",
       "    <tr style=\"text-align: right;\">\n",
       "      <th></th>\n",
       "      <th>id</th>\n",
       "      <th>age</th>\n",
       "      <th>sex</th>\n",
       "      <th>dataset</th>\n",
       "      <th>cp</th>\n",
       "      <th>trestbps</th>\n",
       "      <th>chol</th>\n",
       "      <th>fbs</th>\n",
       "      <th>restecg</th>\n",
       "      <th>thalch</th>\n",
       "      <th>exang</th>\n",
       "      <th>oldpeak</th>\n",
       "      <th>slope</th>\n",
       "      <th>ca</th>\n",
       "      <th>thal</th>\n",
       "      <th>num</th>\n",
       "    </tr>\n",
       "  </thead>\n",
       "  <tbody>\n",
       "    <tr>\n",
       "      <th>0</th>\n",
       "      <td>1</td>\n",
       "      <td>63</td>\n",
       "      <td>Male</td>\n",
       "      <td>Cleveland</td>\n",
       "      <td>typical angina</td>\n",
       "      <td>145.0</td>\n",
       "      <td>233.0</td>\n",
       "      <td>True</td>\n",
       "      <td>lv hypertrophy</td>\n",
       "      <td>150.0</td>\n",
       "      <td>False</td>\n",
       "      <td>2.3</td>\n",
       "      <td>downsloping</td>\n",
       "      <td>0.0</td>\n",
       "      <td>fixed defect</td>\n",
       "      <td>0</td>\n",
       "    </tr>\n",
       "    <tr>\n",
       "      <th>1</th>\n",
       "      <td>2</td>\n",
       "      <td>67</td>\n",
       "      <td>Male</td>\n",
       "      <td>Cleveland</td>\n",
       "      <td>asymptomatic</td>\n",
       "      <td>160.0</td>\n",
       "      <td>286.0</td>\n",
       "      <td>False</td>\n",
       "      <td>lv hypertrophy</td>\n",
       "      <td>108.0</td>\n",
       "      <td>True</td>\n",
       "      <td>1.5</td>\n",
       "      <td>flat</td>\n",
       "      <td>3.0</td>\n",
       "      <td>normal</td>\n",
       "      <td>2</td>\n",
       "    </tr>\n",
       "    <tr>\n",
       "      <th>2</th>\n",
       "      <td>3</td>\n",
       "      <td>67</td>\n",
       "      <td>Male</td>\n",
       "      <td>Cleveland</td>\n",
       "      <td>asymptomatic</td>\n",
       "      <td>120.0</td>\n",
       "      <td>229.0</td>\n",
       "      <td>False</td>\n",
       "      <td>lv hypertrophy</td>\n",
       "      <td>129.0</td>\n",
       "      <td>True</td>\n",
       "      <td>2.6</td>\n",
       "      <td>flat</td>\n",
       "      <td>2.0</td>\n",
       "      <td>reversable defect</td>\n",
       "      <td>1</td>\n",
       "    </tr>\n",
       "    <tr>\n",
       "      <th>3</th>\n",
       "      <td>4</td>\n",
       "      <td>37</td>\n",
       "      <td>Male</td>\n",
       "      <td>Cleveland</td>\n",
       "      <td>non-anginal</td>\n",
       "      <td>130.0</td>\n",
       "      <td>250.0</td>\n",
       "      <td>False</td>\n",
       "      <td>normal</td>\n",
       "      <td>187.0</td>\n",
       "      <td>False</td>\n",
       "      <td>3.5</td>\n",
       "      <td>downsloping</td>\n",
       "      <td>0.0</td>\n",
       "      <td>normal</td>\n",
       "      <td>0</td>\n",
       "    </tr>\n",
       "    <tr>\n",
       "      <th>4</th>\n",
       "      <td>5</td>\n",
       "      <td>41</td>\n",
       "      <td>Female</td>\n",
       "      <td>Cleveland</td>\n",
       "      <td>atypical angina</td>\n",
       "      <td>130.0</td>\n",
       "      <td>204.0</td>\n",
       "      <td>False</td>\n",
       "      <td>lv hypertrophy</td>\n",
       "      <td>172.0</td>\n",
       "      <td>False</td>\n",
       "      <td>1.4</td>\n",
       "      <td>upsloping</td>\n",
       "      <td>0.0</td>\n",
       "      <td>normal</td>\n",
       "      <td>0</td>\n",
       "    </tr>\n",
       "  </tbody>\n",
       "</table>\n",
       "</div>"
      ],
      "text/plain": [
       "   id  age     sex    dataset               cp  trestbps   chol    fbs  \\\n",
       "0   1   63    Male  Cleveland   typical angina     145.0  233.0   True   \n",
       "1   2   67    Male  Cleveland     asymptomatic     160.0  286.0  False   \n",
       "2   3   67    Male  Cleveland     asymptomatic     120.0  229.0  False   \n",
       "3   4   37    Male  Cleveland      non-anginal     130.0  250.0  False   \n",
       "4   5   41  Female  Cleveland  atypical angina     130.0  204.0  False   \n",
       "\n",
       "          restecg  thalch  exang  oldpeak        slope   ca  \\\n",
       "0  lv hypertrophy   150.0  False      2.3  downsloping  0.0   \n",
       "1  lv hypertrophy   108.0   True      1.5         flat  3.0   \n",
       "2  lv hypertrophy   129.0   True      2.6         flat  2.0   \n",
       "3          normal   187.0  False      3.5  downsloping  0.0   \n",
       "4  lv hypertrophy   172.0  False      1.4    upsloping  0.0   \n",
       "\n",
       "                thal  num  \n",
       "0       fixed defect    0  \n",
       "1             normal    2  \n",
       "2  reversable defect    1  \n",
       "3             normal    0  \n",
       "4             normal    0  "
      ]
     },
     "execution_count": 4,
     "metadata": {},
     "output_type": "execute_result"
    }
   ],
   "source": [
    "df=pd.read_csv(\"C:/Users/user/Desktop/heart_disease_uci.csv\")\n",
    "df.head()"
   ]
  },
  {
   "cell_type": "code",
   "execution_count": 3,
   "id": "be4d8d8f-0931-4beb-9ff7-0159efc9a89d",
   "metadata": {
    "tags": []
   },
   "outputs": [
    {
     "data": {
      "text/plain": [
       "(920, 16)"
      ]
     },
     "execution_count": 3,
     "metadata": {},
     "output_type": "execute_result"
    }
   ],
   "source": [
    "df.shape"
   ]
  },
  {
   "cell_type": "code",
   "execution_count": 4,
   "id": "a6219cff-16fe-46a1-a710-3e91c17992eb",
   "metadata": {
    "tags": []
   },
   "outputs": [],
   "source": [
    "# We have 920 row and 16 columns"
   ]
  },
  {
   "cell_type": "code",
   "execution_count": 5,
   "id": "2fc9631f-b8f1-442d-ae0b-0ca6a412124f",
   "metadata": {
    "tags": []
   },
   "outputs": [
    {
     "data": {
      "text/plain": [
       "Index(['id', 'age', 'sex', 'dataset', 'cp', 'trestbps', 'chol', 'fbs',\n",
       "       'restecg', 'thalch', 'exang', 'oldpeak', 'slope', 'ca', 'thal', 'num'],\n",
       "      dtype='object')"
      ]
     },
     "execution_count": 5,
     "metadata": {},
     "output_type": "execute_result"
    }
   ],
   "source": [
    "# Coloumns name\n",
    "df.columns"
   ]
  },
  {
   "cell_type": "code",
   "execution_count": 6,
   "id": "24b79ab4-0a1f-4461-8f24-d52cbbdda85b",
   "metadata": {
    "tags": []
   },
   "outputs": [
    {
     "data": {
      "text/plain": [
       "id            0\n",
       "age           0\n",
       "sex           0\n",
       "dataset       0\n",
       "cp            0\n",
       "trestbps     59\n",
       "chol         30\n",
       "fbs          90\n",
       "restecg       2\n",
       "thalch       55\n",
       "exang        55\n",
       "oldpeak      62\n",
       "slope       309\n",
       "ca          611\n",
       "thal        486\n",
       "num           0\n",
       "dtype: int64"
      ]
     },
     "execution_count": 6,
     "metadata": {},
     "output_type": "execute_result"
    }
   ],
   "source": [
    "#Check nulls\n",
    "df.isnull().sum()"
   ]
  },
  {
   "cell_type": "code",
   "execution_count": 7,
   "id": "7c9cf1c2-801e-444c-b9e2-61788943ece5",
   "metadata": {
    "tags": []
   },
   "outputs": [],
   "source": [
    "# We have missing values: trestbps 59, chol 30, fbs 90, restecg 2, thalch  55, exang    55, oldpeak  62, slope   309,thal   486\n",
    "#  the most is ca  611, so we drop it"
   ]
  },
  {
   "cell_type": "code",
   "execution_count": 8,
   "id": "4212bbb5-5583-4ef5-b077-35e55dd60018",
   "metadata": {
    "tags": []
   },
   "outputs": [
    {
     "name": "stdout",
     "output_type": "stream",
     "text": [
      "<class 'pandas.core.frame.DataFrame'>\n",
      "RangeIndex: 920 entries, 0 to 919\n",
      "Data columns (total 16 columns):\n",
      " #   Column    Non-Null Count  Dtype  \n",
      "---  ------    --------------  -----  \n",
      " 0   id        920 non-null    int64  \n",
      " 1   age       920 non-null    int64  \n",
      " 2   sex       920 non-null    object \n",
      " 3   dataset   920 non-null    object \n",
      " 4   cp        920 non-null    object \n",
      " 5   trestbps  861 non-null    float64\n",
      " 6   chol      890 non-null    float64\n",
      " 7   fbs       830 non-null    object \n",
      " 8   restecg   918 non-null    object \n",
      " 9   thalch    865 non-null    float64\n",
      " 10  exang     865 non-null    object \n",
      " 11  oldpeak   858 non-null    float64\n",
      " 12  slope     611 non-null    object \n",
      " 13  ca        309 non-null    float64\n",
      " 14  thal      434 non-null    object \n",
      " 15  num       920 non-null    int64  \n",
      "dtypes: float64(5), int64(3), object(8)\n",
      "memory usage: 115.1+ KB\n"
     ]
    }
   ],
   "source": [
    "# Check data types\n",
    "df.info()"
   ]
  },
  {
   "cell_type": "code",
   "execution_count": 9,
   "id": "b3f8232a-513b-4627-bfe5-3635cef5e27c",
   "metadata": {},
   "outputs": [],
   "source": [
    "# We have 8 numeric , 8 catigorical data ,  920 observation and we see missing values "
   ]
  },
  {
   "cell_type": "code",
   "execution_count": 10,
   "id": "5c2743ba-180e-4fe8-9557-c4e704ae0509",
   "metadata": {
    "tags": []
   },
   "outputs": [
    {
     "data": {
      "text/plain": [
       "id          920\n",
       "age          50\n",
       "sex           2\n",
       "dataset       4\n",
       "cp            4\n",
       "trestbps     61\n",
       "chol        217\n",
       "fbs           2\n",
       "restecg       3\n",
       "thalch      119\n",
       "exang         2\n",
       "oldpeak      53\n",
       "slope         3\n",
       "ca            4\n",
       "thal          3\n",
       "num           5\n",
       "dtype: int64"
      ]
     },
     "execution_count": 10,
     "metadata": {},
     "output_type": "execute_result"
    }
   ],
   "source": [
    "df.nunique()"
   ]
  },
  {
   "cell_type": "code",
   "execution_count": 11,
   "id": "6b4d9c36-c127-41dd-bd5e-50e238326bb8",
   "metadata": {
    "tags": []
   },
   "outputs": [],
   "source": [
    "# Numeric columns: Use median imputation\n",
    "numeric_columns = ['trestbps', 'chol', 'thalch', 'oldpeak']\n",
    "numeric_imputer = SimpleImputer(strategy='median')\n",
    "df[numeric_columns] = numeric_imputer.fit_transform(df[numeric_columns])\n",
    "\n",
    "# Categorical columns with mode imputation\n",
    "categorical_columns = ['fbs', 'restecg', 'exang', 'slope', 'thal']\n",
    "categorical_imputer = SimpleImputer(strategy='most_frequent')\n",
    "df[categorical_columns] = categorical_imputer.fit_transform(df[categorical_columns])\n",
    "\n",
    "# Columns with a significant amount of missing data\n",
    "df.drop(['ca'], axis=1, inplace=True)  # Removing 'ca' due to high missing values"
   ]
  },
  {
   "cell_type": "code",
   "execution_count": 12,
   "id": "a78cc591-4cb5-456e-841c-da0c197d6963",
   "metadata": {},
   "outputs": [],
   "source": [
    "# ca has a lot of missing values, we drop it, in numeric we add median and in categorical me add mode"
   ]
  },
  {
   "cell_type": "code",
   "execution_count": 13,
   "id": "2c5311f0-097b-4025-8e3a-ec74a2225616",
   "metadata": {
    "tags": []
   },
   "outputs": [
    {
     "data": {
      "text/plain": [
       "id          0\n",
       "age         0\n",
       "sex         0\n",
       "dataset     0\n",
       "cp          0\n",
       "trestbps    0\n",
       "chol        0\n",
       "fbs         0\n",
       "restecg     0\n",
       "thalch      0\n",
       "exang       0\n",
       "oldpeak     0\n",
       "slope       0\n",
       "thal        0\n",
       "num         0\n",
       "dtype: int64"
      ]
     },
     "execution_count": 13,
     "metadata": {},
     "output_type": "execute_result"
    }
   ],
   "source": [
    "#  check missing\n",
    "df.isnull().sum()"
   ]
  },
  {
   "cell_type": "code",
   "execution_count": 14,
   "id": "97bd0cd9-cb4b-4710-9e49-8818dc7e37dd",
   "metadata": {
    "tags": []
   },
   "outputs": [],
   "source": [
    "# We see that all variable is correct"
   ]
  },
  {
   "cell_type": "code",
   "execution_count": 15,
   "id": "a5d86f44-592a-43b4-a99c-a4aa02dbcb54",
   "metadata": {
    "tags": []
   },
   "outputs": [
    {
     "data": {
      "text/html": [
       "<div>\n",
       "<style scoped>\n",
       "    .dataframe tbody tr th:only-of-type {\n",
       "        vertical-align: middle;\n",
       "    }\n",
       "\n",
       "    .dataframe tbody tr th {\n",
       "        vertical-align: top;\n",
       "    }\n",
       "\n",
       "    .dataframe thead th {\n",
       "        text-align: right;\n",
       "    }\n",
       "</style>\n",
       "<table border=\"1\" class=\"dataframe\">\n",
       "  <thead>\n",
       "    <tr style=\"text-align: right;\">\n",
       "      <th></th>\n",
       "      <th>id</th>\n",
       "      <th>age</th>\n",
       "      <th>trestbps</th>\n",
       "      <th>chol</th>\n",
       "      <th>thalch</th>\n",
       "      <th>oldpeak</th>\n",
       "      <th>num</th>\n",
       "    </tr>\n",
       "  </thead>\n",
       "  <tbody>\n",
       "    <tr>\n",
       "      <th>count</th>\n",
       "      <td>920.000000</td>\n",
       "      <td>920.000000</td>\n",
       "      <td>920.000000</td>\n",
       "      <td>920.000000</td>\n",
       "      <td>920.000000</td>\n",
       "      <td>920.000000</td>\n",
       "      <td>920.000000</td>\n",
       "    </tr>\n",
       "    <tr>\n",
       "      <th>mean</th>\n",
       "      <td>460.500000</td>\n",
       "      <td>53.510870</td>\n",
       "      <td>131.995652</td>\n",
       "      <td>199.908696</td>\n",
       "      <td>137.692391</td>\n",
       "      <td>0.853261</td>\n",
       "      <td>0.995652</td>\n",
       "    </tr>\n",
       "    <tr>\n",
       "      <th>std</th>\n",
       "      <td>265.725422</td>\n",
       "      <td>9.424685</td>\n",
       "      <td>18.451300</td>\n",
       "      <td>109.040171</td>\n",
       "      <td>25.145235</td>\n",
       "      <td>1.058049</td>\n",
       "      <td>1.142693</td>\n",
       "    </tr>\n",
       "    <tr>\n",
       "      <th>min</th>\n",
       "      <td>1.000000</td>\n",
       "      <td>28.000000</td>\n",
       "      <td>0.000000</td>\n",
       "      <td>0.000000</td>\n",
       "      <td>60.000000</td>\n",
       "      <td>-2.600000</td>\n",
       "      <td>0.000000</td>\n",
       "    </tr>\n",
       "    <tr>\n",
       "      <th>25%</th>\n",
       "      <td>230.750000</td>\n",
       "      <td>47.000000</td>\n",
       "      <td>120.000000</td>\n",
       "      <td>177.750000</td>\n",
       "      <td>120.000000</td>\n",
       "      <td>0.000000</td>\n",
       "      <td>0.000000</td>\n",
       "    </tr>\n",
       "    <tr>\n",
       "      <th>50%</th>\n",
       "      <td>460.500000</td>\n",
       "      <td>54.000000</td>\n",
       "      <td>130.000000</td>\n",
       "      <td>223.000000</td>\n",
       "      <td>140.000000</td>\n",
       "      <td>0.500000</td>\n",
       "      <td>1.000000</td>\n",
       "    </tr>\n",
       "    <tr>\n",
       "      <th>75%</th>\n",
       "      <td>690.250000</td>\n",
       "      <td>60.000000</td>\n",
       "      <td>140.000000</td>\n",
       "      <td>267.000000</td>\n",
       "      <td>156.000000</td>\n",
       "      <td>1.500000</td>\n",
       "      <td>2.000000</td>\n",
       "    </tr>\n",
       "    <tr>\n",
       "      <th>max</th>\n",
       "      <td>920.000000</td>\n",
       "      <td>77.000000</td>\n",
       "      <td>200.000000</td>\n",
       "      <td>603.000000</td>\n",
       "      <td>202.000000</td>\n",
       "      <td>6.200000</td>\n",
       "      <td>4.000000</td>\n",
       "    </tr>\n",
       "  </tbody>\n",
       "</table>\n",
       "</div>"
      ],
      "text/plain": [
       "               id         age    trestbps        chol      thalch     oldpeak  \\\n",
       "count  920.000000  920.000000  920.000000  920.000000  920.000000  920.000000   \n",
       "mean   460.500000   53.510870  131.995652  199.908696  137.692391    0.853261   \n",
       "std    265.725422    9.424685   18.451300  109.040171   25.145235    1.058049   \n",
       "min      1.000000   28.000000    0.000000    0.000000   60.000000   -2.600000   \n",
       "25%    230.750000   47.000000  120.000000  177.750000  120.000000    0.000000   \n",
       "50%    460.500000   54.000000  130.000000  223.000000  140.000000    0.500000   \n",
       "75%    690.250000   60.000000  140.000000  267.000000  156.000000    1.500000   \n",
       "max    920.000000   77.000000  200.000000  603.000000  202.000000    6.200000   \n",
       "\n",
       "              num  \n",
       "count  920.000000  \n",
       "mean     0.995652  \n",
       "std      1.142693  \n",
       "min      0.000000  \n",
       "25%      0.000000  \n",
       "50%      1.000000  \n",
       "75%      2.000000  \n",
       "max      4.000000  "
      ]
     },
     "execution_count": 15,
     "metadata": {},
     "output_type": "execute_result"
    }
   ],
   "source": [
    "df.describe()"
   ]
  },
  {
   "cell_type": "code",
   "execution_count": null,
   "id": "c67ad9ec-f282-4d81-acdf-3a6461f0ba72",
   "metadata": {},
   "outputs": [],
   "source": [
    "# We have 920 diseaseds,  \n",
    "# average  age 53 to 54, minimum age 28 and maximum age 77 \n",
    "# average resting blood pressure in mm Hg 131.9,minimum 0 and maximum 200\n",
    "# average cholesterol level in mg/dl 199.9, minumum 0 and maximum 603\n",
    "# average maximum heart rate achieved 137.6, minimum  60 and maximum 202\n",
    "# average ST depression 0.85, minimum -2.6 and maximum 6.2\n",
    "\n",
    "\n"
   ]
  },
  {
   "cell_type": "code",
   "execution_count": 16,
   "id": "7f863212-05be-4765-92fb-e62f4d8630f0",
   "metadata": {
    "tags": []
   },
   "outputs": [
    {
     "name": "stdout",
     "output_type": "stream",
     "text": [
      "     num heart_disease_category\n",
      "0      0             No disease\n",
      "1      2               2 stage \n",
      "2      1               1 stage \n",
      "3      0             No disease\n",
      "4      0             No disease\n",
      "..   ...                    ...\n",
      "915    1               1 stage \n",
      "916    0             No disease\n",
      "917    2               2 stage \n",
      "918    0             No disease\n",
      "919    1               1 stage \n",
      "\n",
      "[920 rows x 2 columns]\n"
     ]
    }
   ],
   "source": [
    "\n",
    "df['heart_disease_category'] = df['num'].map({\n",
    "        0: 'No disease',\n",
    "        1: '1 stage ',\n",
    "        2: '2 stage ',\n",
    "        3: '3 stage ',\n",
    "        4: '4 stage '\n",
    "})\n",
    "print(df[['num', 'heart_disease_category']])\n"
   ]
  },
  {
   "cell_type": "code",
   "execution_count": null,
   "id": "b8e44597-950a-414a-8051-5a8bdf02d227",
   "metadata": {},
   "outputs": [],
   "source": [
    "# create new column which called heart_disease category . It means num change number of category  to characters"
   ]
  },
  {
   "cell_type": "code",
   "execution_count": 17,
   "id": "0569aa82-7e91-4338-93b7-beab0de0ede1",
   "metadata": {
    "tags": []
   },
   "outputs": [],
   "source": [
    "df = df.drop(columns=['num'])"
   ]
  },
  {
   "cell_type": "code",
   "execution_count": null,
   "id": "dd35ac28-0138-4c69-add5-02c844fe9437",
   "metadata": {},
   "outputs": [],
   "source": [
    "# drop num coloumn"
   ]
  },
  {
   "cell_type": "code",
   "execution_count": 13,
   "id": "b9641b0a-ccb0-4390-aad3-50555acc5cc5",
   "metadata": {
    "tags": []
   },
   "outputs": [
    {
     "data": {
      "text/html": [
       "<div>\n",
       "<style scoped>\n",
       "    .dataframe tbody tr th:only-of-type {\n",
       "        vertical-align: middle;\n",
       "    }\n",
       "\n",
       "    .dataframe tbody tr th {\n",
       "        vertical-align: top;\n",
       "    }\n",
       "\n",
       "    .dataframe thead th {\n",
       "        text-align: right;\n",
       "    }\n",
       "</style>\n",
       "<table border=\"1\" class=\"dataframe\">\n",
       "  <thead>\n",
       "    <tr style=\"text-align: right;\">\n",
       "      <th></th>\n",
       "      <th>id</th>\n",
       "      <th>age</th>\n",
       "      <th>sex</th>\n",
       "      <th>dataset</th>\n",
       "      <th>cp</th>\n",
       "      <th>trestbps</th>\n",
       "      <th>chol</th>\n",
       "      <th>fbs</th>\n",
       "      <th>restecg</th>\n",
       "      <th>thalch</th>\n",
       "      <th>exang</th>\n",
       "      <th>oldpeak</th>\n",
       "      <th>slope</th>\n",
       "      <th>thal</th>\n",
       "      <th>heart_disease_category</th>\n",
       "    </tr>\n",
       "  </thead>\n",
       "  <tbody>\n",
       "    <tr>\n",
       "      <th>0</th>\n",
       "      <td>1</td>\n",
       "      <td>63</td>\n",
       "      <td>Male</td>\n",
       "      <td>Cleveland</td>\n",
       "      <td>typical angina</td>\n",
       "      <td>145.0</td>\n",
       "      <td>233.0</td>\n",
       "      <td>True</td>\n",
       "      <td>lv hypertrophy</td>\n",
       "      <td>150.0</td>\n",
       "      <td>False</td>\n",
       "      <td>2.3</td>\n",
       "      <td>downsloping</td>\n",
       "      <td>fixed defect</td>\n",
       "      <td>No disease</td>\n",
       "    </tr>\n",
       "    <tr>\n",
       "      <th>1</th>\n",
       "      <td>2</td>\n",
       "      <td>67</td>\n",
       "      <td>Male</td>\n",
       "      <td>Cleveland</td>\n",
       "      <td>asymptomatic</td>\n",
       "      <td>160.0</td>\n",
       "      <td>286.0</td>\n",
       "      <td>False</td>\n",
       "      <td>lv hypertrophy</td>\n",
       "      <td>108.0</td>\n",
       "      <td>True</td>\n",
       "      <td>1.5</td>\n",
       "      <td>flat</td>\n",
       "      <td>normal</td>\n",
       "      <td>2 stage</td>\n",
       "    </tr>\n",
       "    <tr>\n",
       "      <th>2</th>\n",
       "      <td>3</td>\n",
       "      <td>67</td>\n",
       "      <td>Male</td>\n",
       "      <td>Cleveland</td>\n",
       "      <td>asymptomatic</td>\n",
       "      <td>120.0</td>\n",
       "      <td>229.0</td>\n",
       "      <td>False</td>\n",
       "      <td>lv hypertrophy</td>\n",
       "      <td>129.0</td>\n",
       "      <td>True</td>\n",
       "      <td>2.6</td>\n",
       "      <td>flat</td>\n",
       "      <td>reversable defect</td>\n",
       "      <td>1 stage</td>\n",
       "    </tr>\n",
       "    <tr>\n",
       "      <th>3</th>\n",
       "      <td>4</td>\n",
       "      <td>37</td>\n",
       "      <td>Male</td>\n",
       "      <td>Cleveland</td>\n",
       "      <td>non-anginal</td>\n",
       "      <td>130.0</td>\n",
       "      <td>250.0</td>\n",
       "      <td>False</td>\n",
       "      <td>normal</td>\n",
       "      <td>187.0</td>\n",
       "      <td>False</td>\n",
       "      <td>3.5</td>\n",
       "      <td>downsloping</td>\n",
       "      <td>normal</td>\n",
       "      <td>No disease</td>\n",
       "    </tr>\n",
       "    <tr>\n",
       "      <th>4</th>\n",
       "      <td>5</td>\n",
       "      <td>41</td>\n",
       "      <td>Female</td>\n",
       "      <td>Cleveland</td>\n",
       "      <td>atypical angina</td>\n",
       "      <td>130.0</td>\n",
       "      <td>204.0</td>\n",
       "      <td>False</td>\n",
       "      <td>lv hypertrophy</td>\n",
       "      <td>172.0</td>\n",
       "      <td>False</td>\n",
       "      <td>1.4</td>\n",
       "      <td>upsloping</td>\n",
       "      <td>normal</td>\n",
       "      <td>No disease</td>\n",
       "    </tr>\n",
       "  </tbody>\n",
       "</table>\n",
       "</div>"
      ],
      "text/plain": [
       "   id  age     sex    dataset               cp  trestbps   chol    fbs  \\\n",
       "0   1   63    Male  Cleveland   typical angina     145.0  233.0   True   \n",
       "1   2   67    Male  Cleveland     asymptomatic     160.0  286.0  False   \n",
       "2   3   67    Male  Cleveland     asymptomatic     120.0  229.0  False   \n",
       "3   4   37    Male  Cleveland      non-anginal     130.0  250.0  False   \n",
       "4   5   41  Female  Cleveland  atypical angina     130.0  204.0  False   \n",
       "\n",
       "          restecg  thalch  exang  oldpeak        slope               thal  \\\n",
       "0  lv hypertrophy   150.0  False      2.3  downsloping       fixed defect   \n",
       "1  lv hypertrophy   108.0   True      1.5         flat             normal   \n",
       "2  lv hypertrophy   129.0   True      2.6         flat  reversable defect   \n",
       "3          normal   187.0  False      3.5  downsloping             normal   \n",
       "4  lv hypertrophy   172.0  False      1.4    upsloping             normal   \n",
       "\n",
       "  heart_disease_category  \n",
       "0             No disease  \n",
       "1               2 stage   \n",
       "2               1 stage   \n",
       "3             No disease  \n",
       "4             No disease  "
      ]
     },
     "execution_count": 13,
     "metadata": {},
     "output_type": "execute_result"
    }
   ],
   "source": [
    "df.head()"
   ]
  },
  {
   "cell_type": "code",
   "execution_count": 14,
   "id": "233136c5-82a2-4a78-8f5b-8d1bf05b0115",
   "metadata": {
    "tags": []
   },
   "outputs": [],
   "source": [
    "df.to_csv('heart_disease_data.csv', index=False)"
   ]
  },
  {
   "cell_type": "code",
   "execution_count": null,
   "id": "34f1e618-1bb0-4b71-9a8f-001aba3d0897",
   "metadata": {},
   "outputs": [],
   "source": [
    "# save as csv file"
   ]
  },
  {
   "cell_type": "code",
   "execution_count": null,
   "id": "d098e83a-0e9a-4bb7-a3ac-7238e5e04e57",
   "metadata": {},
   "outputs": [],
   "source": []
  },
  {
   "cell_type": "code",
   "execution_count": null,
   "id": "0d39b1f3-b567-4d6f-9178-944165cae598",
   "metadata": {},
   "outputs": [],
   "source": []
  }
 ],
 "metadata": {
  "kernelspec": {
   "display_name": "Python 3 (ipykernel)",
   "language": "python",
   "name": "python3"
  },
  "language_info": {
   "codemirror_mode": {
    "name": "ipython",
    "version": 3
   },
   "file_extension": ".py",
   "mimetype": "text/x-python",
   "name": "python",
   "nbconvert_exporter": "python",
   "pygments_lexer": "ipython3",
   "version": "3.11.5"
  }
 },
 "nbformat": 4,
 "nbformat_minor": 5
}
